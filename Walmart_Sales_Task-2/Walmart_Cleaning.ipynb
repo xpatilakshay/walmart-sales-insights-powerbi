{
 "cells": [
  {
   "cell_type": "markdown",
   "id": "3aa216a3-e09c-461d-a5d5-9a3df21329ee",
   "metadata": {},
   "source": [
    "## Dataset : Walmart Sales"
   ]
  },
  {
   "cell_type": "markdown",
   "id": "5a6c9cdc-e327-464c-98e1-d2c676a6246a",
   "metadata": {},
   "source": [
    "## importing required libraries"
   ]
  },
  {
   "cell_type": "code",
   "execution_count": 1,
   "id": "d9f80896-e003-40e6-b29d-c8d1f1a7d802",
   "metadata": {},
   "outputs": [],
   "source": [
    "import pandas as pd"
   ]
  },
  {
   "cell_type": "markdown",
   "id": "3b744b98-76e5-4b63-be96-5245eee25e54",
   "metadata": {},
   "source": [
    "## Step 1: Load the dataset"
   ]
  },
  {
   "cell_type": "code",
   "execution_count": 2,
   "id": "0d375cba-eabe-4706-867b-20d98b3f4f81",
   "metadata": {},
   "outputs": [],
   "source": [
    "file_path = 'Walmart.xlsx'\n",
    "df = pd.read_excel(file_path, sheet_name='Walmart')"
   ]
  },
  {
   "cell_type": "markdown",
   "id": "1c2e643c-037e-46d4-acae-f18a5e6143fd",
   "metadata": {},
   "source": [
    "## Step 2: Inspect the data"
   ]
  },
  {
   "cell_type": "code",
   "execution_count": 3,
   "id": "30e8c16a-261c-45b3-8ee0-7933aa4183dc",
   "metadata": {},
   "outputs": [
    {
     "name": "stdout",
     "output_type": "stream",
     "text": [
      "<class 'pandas.core.frame.DataFrame'>\n",
      "RangeIndex: 3203 entries, 0 to 3202\n",
      "Data columns (total 12 columns):\n",
      " #   Column         Non-Null Count  Dtype         \n",
      "---  ------         --------------  -----         \n",
      " 0   Order ID       3203 non-null   object        \n",
      " 1   Order Date     3203 non-null   datetime64[ns]\n",
      " 2   Ship Date      3203 non-null   datetime64[ns]\n",
      " 3   Customer Name  3203 non-null   object        \n",
      " 4   Country        3203 non-null   object        \n",
      " 5   City           3203 non-null   object        \n",
      " 6   State          3203 non-null   object        \n",
      " 7   Category       3203 non-null   object        \n",
      " 8   Product Name   3203 non-null   object        \n",
      " 9   Sales          3203 non-null   float64       \n",
      " 10  Quantity       3203 non-null   int64         \n",
      " 11  Profit         3203 non-null   float64       \n",
      "dtypes: datetime64[ns](2), float64(2), int64(1), object(7)\n",
      "memory usage: 300.4+ KB\n"
     ]
    }
   ],
   "source": [
    "df.info()"
   ]
  },
  {
   "cell_type": "markdown",
   "id": "79819624-e533-4c76-b028-0a418105e5a0",
   "metadata": {},
   "source": [
    "## Step 3: Rename columns for consistency"
   ]
  },
  {
   "cell_type": "code",
   "execution_count": 4,
   "id": "eb141bd0-b3fe-40ae-9933-b9b3ab9acd39",
   "metadata": {},
   "outputs": [],
   "source": [
    "df.columns = df.columns.str.lower().str.replace(' ', '_')"
   ]
  },
  {
   "cell_type": "markdown",
   "id": "0b57e3f6-ed6a-4a76-b7a8-6026b8fd1815",
   "metadata": {},
   "source": [
    "## Step 4: Convert date columns to datetime format"
   ]
  },
  {
   "cell_type": "code",
   "execution_count": 5,
   "id": "c10b30a7-805c-41b2-9c06-b25487f4a5ad",
   "metadata": {},
   "outputs": [],
   "source": [
    "df['order_date'] = pd.to_datetime(df['order_date'])\n",
    "df['ship_date'] = pd.to_datetime(df['ship_date'])"
   ]
  },
  {
   "cell_type": "markdown",
   "id": "d14654f1-5a3d-43bc-8a10-2edcb6c9e5d6",
   "metadata": {},
   "source": [
    "## Step 5: Handle missing values"
   ]
  },
  {
   "cell_type": "code",
   "execution_count": 6,
   "id": "92cb5456-9368-4fed-9b86-ffa049bf06e6",
   "metadata": {},
   "outputs": [
    {
     "data": {
      "text/plain": [
       "order_id         0\n",
       "order_date       0\n",
       "ship_date        0\n",
       "customer_name    0\n",
       "country          0\n",
       "city             0\n",
       "state            0\n",
       "category         0\n",
       "product_name     0\n",
       "sales            0\n",
       "quantity         0\n",
       "profit           0\n",
       "dtype: int64"
      ]
     },
     "execution_count": 6,
     "metadata": {},
     "output_type": "execute_result"
    }
   ],
   "source": [
    "df.isnull().sum()"
   ]
  },
  {
   "cell_type": "markdown",
   "id": "afc7b580-394a-4217-b938-aaede9a5d741",
   "metadata": {},
   "source": [
    "### Drop rows with missing critical info"
   ]
  },
  {
   "cell_type": "code",
   "execution_count": 7,
   "id": "2c4810c4-5ae1-4f14-b669-d71c77b84404",
   "metadata": {},
   "outputs": [],
   "source": [
    "df = df.dropna(subset=['order_id', 'order_date', 'sales', 'quantity'])"
   ]
  },
  {
   "cell_type": "markdown",
   "id": "35c443af-c993-4262-86bc-85422623e3b9",
   "metadata": {},
   "source": [
    "## Step 6: Remove duplicates"
   ]
  },
  {
   "cell_type": "code",
   "execution_count": 8,
   "id": "c186e7a6-596f-4a89-b4a5-18aedce7925c",
   "metadata": {},
   "outputs": [],
   "source": [
    "df = df.drop_duplicates()"
   ]
  },
  {
   "cell_type": "markdown",
   "id": "d6ff79bd-a7c9-454e-9a56-48408b79cfaa",
   "metadata": {},
   "source": [
    "## Step 7: Clean numeric columns"
   ]
  },
  {
   "cell_type": "code",
   "execution_count": 9,
   "id": "6444d420-e0d0-4567-96a4-f9812fecbe8b",
   "metadata": {},
   "outputs": [],
   "source": [
    "df['sales'] = pd.to_numeric(df['sales'], errors='coerce')\n",
    "df['profit'] = pd.to_numeric(df['profit'], errors='coerce')\n",
    "df['quantity'] = pd.to_numeric(df['quantity'], errors='coerce')"
   ]
  },
  {
   "cell_type": "markdown",
   "id": "cc0d548b-7763-49e0-b9db-d126f54e42d4",
   "metadata": {},
   "source": [
    "## Step 8: Remove rows with negative or zero values where not logical"
   ]
  },
  {
   "cell_type": "code",
   "execution_count": 10,
   "id": "9423ce1e-6fff-42d1-96b0-dfd94d58847f",
   "metadata": {},
   "outputs": [],
   "source": [
    "df = df[(df['sales'] > 0) & (df['quantity'] > 0)]"
   ]
  },
  {
   "cell_type": "markdown",
   "id": "55307d42-10fa-4cfc-b7a1-38bee7d1db7d",
   "metadata": {},
   "source": [
    "## Step 9: Add derived columns (e.g., year, month)"
   ]
  },
  {
   "cell_type": "code",
   "execution_count": 11,
   "id": "dcbb2b70-dd05-47c8-a2e0-584c6d9a494c",
   "metadata": {},
   "outputs": [],
   "source": [
    "df['year'] = df['order_date'].dt.year\n",
    "df['month'] = df['order_date'].dt.month"
   ]
  },
  {
   "cell_type": "markdown",
   "id": "b0642eec-958c-413d-b6cf-bd15c354c6f6",
   "metadata": {},
   "source": [
    "## Step 10: Save cleaned data"
   ]
  },
  {
   "cell_type": "code",
   "execution_count": 12,
   "id": "2700e95e-9765-4ee4-8293-c31340683f30",
   "metadata": {},
   "outputs": [
    {
     "name": "stdout",
     "output_type": "stream",
     "text": [
      "✅ Cleaned data saved to Walmart_Cleaned.csv\n"
     ]
    }
   ],
   "source": [
    "df.to_csv('Walmart_Cleaned.csv', index=False)\n",
    "print(\"✅ Cleaned data saved to Walmart_Cleaned.csv\")"
   ]
  }
 ],
 "metadata": {
  "kernelspec": {
   "display_name": "Python 3 (ipykernel)",
   "language": "python",
   "name": "python3"
  },
  "language_info": {
   "codemirror_mode": {
    "name": "ipython",
    "version": 3
   },
   "file_extension": ".py",
   "mimetype": "text/x-python",
   "name": "python",
   "nbconvert_exporter": "python",
   "pygments_lexer": "ipython3",
   "version": "3.12.9"
  }
 },
 "nbformat": 4,
 "nbformat_minor": 5
}
